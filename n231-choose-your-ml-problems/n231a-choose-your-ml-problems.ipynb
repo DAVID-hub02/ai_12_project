{
  "cells": [
    {
      "cell_type": "markdown",
      "source": [
        "<img align=\"right\" src=\"https://ds-cs-images.s3.ap-northeast-2.amazonaws.com/Codestates_Fulllogo_Color.png\" width=100>\n",
        "\n",
        "## *AIB / SECTION 2 / SPRINT 3 / NOTE 1*\n",
        "\n",
        "# 📝 Assignment\n",
        "---\n",
        "# Choose your ML problems\n",
        "\n",
        "이번 스프린트에서는 포트폴리오 프로젝트를 위해 수강생 각자가 정한 데이터셋을 사용하여 과제를 수행합니다. 프로젝트를 위한 데이터를 최종 선택하기 전에 여러 가능한 데이터세트를 살펴보고 간단한 모델까지 학습해 보는 것을 추천드립니다."
      ],
      "metadata": {
        "id": "nCc3XZEyG3XV"
      }
    },
    {
      "cell_type": "markdown",
      "source": [
        "### 1) 타겟으로 사용할 특성을 선택합니다.\n",
        "**(Urclass Quiz)** 여러분들이 프로젝트에 사용할 데이터셋과 타겟특성에 대해 아래의 내용을 포함하여 간략하게 설명해주세요. \n",
        "* `df.dtypes`을 사용해서 타겟특성의 데이터 타입 확인\n",
        "* `df.describe()`를 사용해서 타겟특성의 대표값 확인(실수-평균, 범주형-최빈값)"
      ],
      "metadata": {
        "id": "NNc8mCb-pHYk"
      }
    },
    {
      "cell_type": "code",
      "execution_count": 1,
      "source": [
        "### 이곳에서 과제를 진행해 주세요 ### \n",
        "import warnings\n",
        "warnings.simplefilter(action='ignore', category=FutureWarning)"
      ],
      "outputs": [],
      "metadata": {
        "id": "OlzwiTa1pHYl"
      }
    },
    {
      "cell_type": "code",
      "source": [
        "from google.colab import drive\n",
        "drive.mount('/content/drive')"
      ],
      "metadata": {
        "colab": {
          "base_uri": "https://localhost:8080/"
        },
        "id": "j3iZGiMXO8Cf",
        "outputId": "3950c205-8c2e-4460-b730-c49ec26cbae0"
      },
      "execution_count": 2,
      "outputs": [
        {
          "output_type": "stream",
          "name": "stdout",
          "text": [
            "Mounted at /content/drive\n"
          ]
        }
      ]
    },
    {
      "cell_type": "code",
      "source": [
        "import pandas as pd"
      ],
      "metadata": {
        "id": "p0YZvRpEPR0U"
      },
      "execution_count": 3,
      "outputs": []
    },
    {
      "cell_type": "code",
      "source": [
        "bus = pd.read_csv('/content/drive/MyDrive/codestates/Section2/project/2022_1_bus.csv',encoding = 'cp949')\n"
      ],
      "metadata": {
        "colab": {
          "base_uri": "https://localhost:8080/"
        },
        "id": "k-lPZ_RfPIWR",
        "outputId": "471c9b0a-7feb-47fc-ce89-5435101bc753"
      },
      "execution_count": 6,
      "outputs": [
        {
          "output_type": "stream",
          "name": "stderr",
          "text": [
            "/usr/local/lib/python3.7/dist-packages/IPython/core/interactiveshell.py:2882: DtypeWarning: Columns (4) have mixed types.Specify dtype option on import or set low_memory=False.\n",
            "  exec(code_obj, self.user_global_ns, self.user_ns)\n"
          ]
        }
      ]
    },
    {
      "cell_type": "code",
      "source": [
        "bus.head()"
      ],
      "metadata": {
        "colab": {
          "base_uri": "https://localhost:8080/",
          "height": 383
        },
        "id": "PYTRTziaPnGv",
        "outputId": "63326596-dec5-4f55-b477-25b15c32a76b"
      },
      "execution_count": 7,
      "outputs": [
        {
          "output_type": "execute_result",
          "data": {
            "text/html": [
              "\n",
              "  <div id=\"df-cf4fa353-f913-4e22-be66-43e530ddc863\">\n",
              "    <div class=\"colab-df-container\">\n",
              "      <div>\n",
              "<style scoped>\n",
              "    .dataframe tbody tr th:only-of-type {\n",
              "        vertical-align: middle;\n",
              "    }\n",
              "\n",
              "    .dataframe tbody tr th {\n",
              "        vertical-align: top;\n",
              "    }\n",
              "\n",
              "    .dataframe thead th {\n",
              "        text-align: right;\n",
              "    }\n",
              "</style>\n",
              "<table border=\"1\" class=\"dataframe\">\n",
              "  <thead>\n",
              "    <tr style=\"text-align: right;\">\n",
              "      <th></th>\n",
              "      <th>사용년월</th>\n",
              "      <th>노선번호</th>\n",
              "      <th>노선명</th>\n",
              "      <th>표준버스정류장ID</th>\n",
              "      <th>버스정류장ARS번호</th>\n",
              "      <th>역명</th>\n",
              "      <th>00시승차총승객수</th>\n",
              "      <th>00시하차총승객수</th>\n",
              "      <th>1시승차총승객수</th>\n",
              "      <th>1시하차총승객수</th>\n",
              "      <th>...</th>\n",
              "      <th>19시하차총승객수</th>\n",
              "      <th>20시승차총승객수</th>\n",
              "      <th>20시하차총승객수</th>\n",
              "      <th>21시승차총승객수</th>\n",
              "      <th>21시하차총승객수</th>\n",
              "      <th>22시승차총승객수</th>\n",
              "      <th>22시하차총승객수</th>\n",
              "      <th>23시승차총승객수</th>\n",
              "      <th>23시하차총승객수</th>\n",
              "      <th>등록일자</th>\n",
              "    </tr>\n",
              "  </thead>\n",
              "  <tbody>\n",
              "    <tr>\n",
              "      <th>0</th>\n",
              "      <td>202201</td>\n",
              "      <td>741</td>\n",
              "      <td>741번(진관차고지~헌인릉입구)</td>\n",
              "      <td>100000001</td>\n",
              "      <td>1001</td>\n",
              "      <td>종로2가사거리</td>\n",
              "      <td>27</td>\n",
              "      <td>69</td>\n",
              "      <td>14</td>\n",
              "      <td>40</td>\n",
              "      <td>...</td>\n",
              "      <td>313</td>\n",
              "      <td>308</td>\n",
              "      <td>175</td>\n",
              "      <td>284</td>\n",
              "      <td>153</td>\n",
              "      <td>230</td>\n",
              "      <td>105</td>\n",
              "      <td>77</td>\n",
              "      <td>51</td>\n",
              "      <td>20220203</td>\n",
              "    </tr>\n",
              "    <tr>\n",
              "      <th>1</th>\n",
              "      <td>202201</td>\n",
              "      <td>N37</td>\n",
              "      <td>N37번(진관공영차고지~송파공영차고지)</td>\n",
              "      <td>100000001</td>\n",
              "      <td>1001</td>\n",
              "      <td>종로2가사거리</td>\n",
              "      <td>0</td>\n",
              "      <td>0</td>\n",
              "      <td>0</td>\n",
              "      <td>0</td>\n",
              "      <td>...</td>\n",
              "      <td>0</td>\n",
              "      <td>0</td>\n",
              "      <td>0</td>\n",
              "      <td>0</td>\n",
              "      <td>0</td>\n",
              "      <td>0</td>\n",
              "      <td>0</td>\n",
              "      <td>0</td>\n",
              "      <td>0</td>\n",
              "      <td>20220203</td>\n",
              "    </tr>\n",
              "    <tr>\n",
              "      <th>2</th>\n",
              "      <td>202201</td>\n",
              "      <td>470</td>\n",
              "      <td>470번(상암차고지~안골마을)</td>\n",
              "      <td>100000001</td>\n",
              "      <td>1001</td>\n",
              "      <td>종로2가사거리</td>\n",
              "      <td>10</td>\n",
              "      <td>49</td>\n",
              "      <td>0</td>\n",
              "      <td>0</td>\n",
              "      <td>...</td>\n",
              "      <td>258</td>\n",
              "      <td>304</td>\n",
              "      <td>201</td>\n",
              "      <td>358</td>\n",
              "      <td>253</td>\n",
              "      <td>137</td>\n",
              "      <td>107</td>\n",
              "      <td>72</td>\n",
              "      <td>64</td>\n",
              "      <td>20220203</td>\n",
              "    </tr>\n",
              "    <tr>\n",
              "      <th>3</th>\n",
              "      <td>202201</td>\n",
              "      <td>N37</td>\n",
              "      <td>N37번(송파공영차고지~진관공영차고지)</td>\n",
              "      <td>100000001</td>\n",
              "      <td>1001</td>\n",
              "      <td>종로2가사거리</td>\n",
              "      <td>0</td>\n",
              "      <td>5</td>\n",
              "      <td>31</td>\n",
              "      <td>89</td>\n",
              "      <td>...</td>\n",
              "      <td>0</td>\n",
              "      <td>0</td>\n",
              "      <td>0</td>\n",
              "      <td>0</td>\n",
              "      <td>0</td>\n",
              "      <td>0</td>\n",
              "      <td>0</td>\n",
              "      <td>0</td>\n",
              "      <td>0</td>\n",
              "      <td>20220203</td>\n",
              "    </tr>\n",
              "    <tr>\n",
              "      <th>4</th>\n",
              "      <td>202201</td>\n",
              "      <td>100</td>\n",
              "      <td>100번(하계동~용산구청)</td>\n",
              "      <td>100000002</td>\n",
              "      <td>1002</td>\n",
              "      <td>창경궁.서울대학교병원</td>\n",
              "      <td>0</td>\n",
              "      <td>0</td>\n",
              "      <td>0</td>\n",
              "      <td>0</td>\n",
              "      <td>...</td>\n",
              "      <td>24</td>\n",
              "      <td>32</td>\n",
              "      <td>18</td>\n",
              "      <td>42</td>\n",
              "      <td>44</td>\n",
              "      <td>28</td>\n",
              "      <td>14</td>\n",
              "      <td>14</td>\n",
              "      <td>1</td>\n",
              "      <td>20220203</td>\n",
              "    </tr>\n",
              "  </tbody>\n",
              "</table>\n",
              "<p>5 rows × 55 columns</p>\n",
              "</div>\n",
              "      <button class=\"colab-df-convert\" onclick=\"convertToInteractive('df-cf4fa353-f913-4e22-be66-43e530ddc863')\"\n",
              "              title=\"Convert this dataframe to an interactive table.\"\n",
              "              style=\"display:none;\">\n",
              "        \n",
              "  <svg xmlns=\"http://www.w3.org/2000/svg\" height=\"24px\"viewBox=\"0 0 24 24\"\n",
              "       width=\"24px\">\n",
              "    <path d=\"M0 0h24v24H0V0z\" fill=\"none\"/>\n",
              "    <path d=\"M18.56 5.44l.94 2.06.94-2.06 2.06-.94-2.06-.94-.94-2.06-.94 2.06-2.06.94zm-11 1L8.5 8.5l.94-2.06 2.06-.94-2.06-.94L8.5 2.5l-.94 2.06-2.06.94zm10 10l.94 2.06.94-2.06 2.06-.94-2.06-.94-.94-2.06-.94 2.06-2.06.94z\"/><path d=\"M17.41 7.96l-1.37-1.37c-.4-.4-.92-.59-1.43-.59-.52 0-1.04.2-1.43.59L10.3 9.45l-7.72 7.72c-.78.78-.78 2.05 0 2.83L4 21.41c.39.39.9.59 1.41.59.51 0 1.02-.2 1.41-.59l7.78-7.78 2.81-2.81c.8-.78.8-2.07 0-2.86zM5.41 20L4 18.59l7.72-7.72 1.47 1.35L5.41 20z\"/>\n",
              "  </svg>\n",
              "      </button>\n",
              "      \n",
              "  <style>\n",
              "    .colab-df-container {\n",
              "      display:flex;\n",
              "      flex-wrap:wrap;\n",
              "      gap: 12px;\n",
              "    }\n",
              "\n",
              "    .colab-df-convert {\n",
              "      background-color: #E8F0FE;\n",
              "      border: none;\n",
              "      border-radius: 50%;\n",
              "      cursor: pointer;\n",
              "      display: none;\n",
              "      fill: #1967D2;\n",
              "      height: 32px;\n",
              "      padding: 0 0 0 0;\n",
              "      width: 32px;\n",
              "    }\n",
              "\n",
              "    .colab-df-convert:hover {\n",
              "      background-color: #E2EBFA;\n",
              "      box-shadow: 0px 1px 2px rgba(60, 64, 67, 0.3), 0px 1px 3px 1px rgba(60, 64, 67, 0.15);\n",
              "      fill: #174EA6;\n",
              "    }\n",
              "\n",
              "    [theme=dark] .colab-df-convert {\n",
              "      background-color: #3B4455;\n",
              "      fill: #D2E3FC;\n",
              "    }\n",
              "\n",
              "    [theme=dark] .colab-df-convert:hover {\n",
              "      background-color: #434B5C;\n",
              "      box-shadow: 0px 1px 3px 1px rgba(0, 0, 0, 0.15);\n",
              "      filter: drop-shadow(0px 1px 2px rgba(0, 0, 0, 0.3));\n",
              "      fill: #FFFFFF;\n",
              "    }\n",
              "  </style>\n",
              "\n",
              "      <script>\n",
              "        const buttonEl =\n",
              "          document.querySelector('#df-cf4fa353-f913-4e22-be66-43e530ddc863 button.colab-df-convert');\n",
              "        buttonEl.style.display =\n",
              "          google.colab.kernel.accessAllowed ? 'block' : 'none';\n",
              "\n",
              "        async function convertToInteractive(key) {\n",
              "          const element = document.querySelector('#df-cf4fa353-f913-4e22-be66-43e530ddc863');\n",
              "          const dataTable =\n",
              "            await google.colab.kernel.invokeFunction('convertToInteractive',\n",
              "                                                     [key], {});\n",
              "          if (!dataTable) return;\n",
              "\n",
              "          const docLinkHtml = 'Like what you see? Visit the ' +\n",
              "            '<a target=\"_blank\" href=https://colab.research.google.com/notebooks/data_table.ipynb>data table notebook</a>'\n",
              "            + ' to learn more about interactive tables.';\n",
              "          element.innerHTML = '';\n",
              "          dataTable['output_type'] = 'display_data';\n",
              "          await google.colab.output.renderOutput(dataTable, element);\n",
              "          const docLink = document.createElement('div');\n",
              "          docLink.innerHTML = docLinkHtml;\n",
              "          element.appendChild(docLink);\n",
              "        }\n",
              "      </script>\n",
              "    </div>\n",
              "  </div>\n",
              "  "
            ],
            "text/plain": [
              "     사용년월 노선번호                    노선명  표준버스정류장ID 버스정류장ARS번호           역명  \\\n",
              "0  202201  741      741번(진관차고지~헌인릉입구)  100000001       1001      종로2가사거리   \n",
              "1  202201  N37  N37번(진관공영차고지~송파공영차고지)  100000001       1001      종로2가사거리   \n",
              "2  202201  470       470번(상암차고지~안골마을)  100000001       1001      종로2가사거리   \n",
              "3  202201  N37  N37번(송파공영차고지~진관공영차고지)  100000001       1001      종로2가사거리   \n",
              "4  202201  100         100번(하계동~용산구청)  100000002       1002  창경궁.서울대학교병원   \n",
              "\n",
              "   00시승차총승객수  00시하차총승객수  1시승차총승객수  1시하차총승객수  ...  19시하차총승객수  20시승차총승객수  \\\n",
              "0         27         69        14        40  ...        313        308   \n",
              "1          0          0         0         0  ...          0          0   \n",
              "2         10         49         0         0  ...        258        304   \n",
              "3          0          5        31        89  ...          0          0   \n",
              "4          0          0         0         0  ...         24         32   \n",
              "\n",
              "   20시하차총승객수  21시승차총승객수  21시하차총승객수  22시승차총승객수  22시하차총승객수  23시승차총승객수  \\\n",
              "0        175        284        153        230        105         77   \n",
              "1          0          0          0          0          0          0   \n",
              "2        201        358        253        137        107         72   \n",
              "3          0          0          0          0          0          0   \n",
              "4         18         42         44         28         14         14   \n",
              "\n",
              "   23시하차총승객수      등록일자  \n",
              "0         51  20220203  \n",
              "1          0  20220203  \n",
              "2         64  20220203  \n",
              "3          0  20220203  \n",
              "4          1  20220203  \n",
              "\n",
              "[5 rows x 55 columns]"
            ]
          },
          "metadata": {},
          "execution_count": 7
        }
      ]
    },
    {
      "cell_type": "code",
      "source": [
        "bus.shape"
      ],
      "metadata": {
        "colab": {
          "base_uri": "https://localhost:8080/"
        },
        "id": "dJ_S0a6XScyq",
        "outputId": "7a004927-8d64-4c85-df5f-6fc4f123d4b2"
      },
      "execution_count": 15,
      "outputs": [
        {
          "output_type": "execute_result",
          "data": {
            "text/plain": [
              "(39159, 55)"
            ]
          },
          "metadata": {},
          "execution_count": 15
        }
      ]
    },
    {
      "cell_type": "code",
      "source": [
        "bus['n_ride'] = bus.iloc[:,[6,8,10,12,14,16,18,20,22,24,26,28,30,32,34,36,38,40,42,44,46,48,50,52]].sum(axis=1)\n",
        "bus['n_quit'] = bus.iloc[:,[7,9,11,13,15,17,19,21,23,25,27,29,31,33,35,37,39,41,43,45,47,49,51,53]].sum(axis=1)"
      ],
      "metadata": {
        "id": "KmZa_x8fQL5d"
      },
      "execution_count": 23,
      "outputs": []
    },
    {
      "cell_type": "code",
      "source": [
        "bus.shape"
      ],
      "metadata": {
        "colab": {
          "base_uri": "https://localhost:8080/"
        },
        "id": "XBdOHB9nTJNn",
        "outputId": "c11ed72e-4270-435b-b41f-2f79009453c5"
      },
      "execution_count": 24,
      "outputs": [
        {
          "output_type": "execute_result",
          "data": {
            "text/plain": [
              "(39159, 57)"
            ]
          },
          "metadata": {},
          "execution_count": 24
        }
      ]
    },
    {
      "cell_type": "code",
      "source": [
        "bus.head()"
      ],
      "metadata": {
        "colab": {
          "base_uri": "https://localhost:8080/",
          "height": 383
        },
        "id": "472pT1TmTMjI",
        "outputId": "3a63dc3a-33c8-4dee-bd35-c373c31df936"
      },
      "execution_count": 25,
      "outputs": [
        {
          "output_type": "execute_result",
          "data": {
            "text/html": [
              "\n",
              "  <div id=\"df-d3b514d6-f645-4c3f-b7ee-5b4c1b23376e\">\n",
              "    <div class=\"colab-df-container\">\n",
              "      <div>\n",
              "<style scoped>\n",
              "    .dataframe tbody tr th:only-of-type {\n",
              "        vertical-align: middle;\n",
              "    }\n",
              "\n",
              "    .dataframe tbody tr th {\n",
              "        vertical-align: top;\n",
              "    }\n",
              "\n",
              "    .dataframe thead th {\n",
              "        text-align: right;\n",
              "    }\n",
              "</style>\n",
              "<table border=\"1\" class=\"dataframe\">\n",
              "  <thead>\n",
              "    <tr style=\"text-align: right;\">\n",
              "      <th></th>\n",
              "      <th>사용년월</th>\n",
              "      <th>노선번호</th>\n",
              "      <th>노선명</th>\n",
              "      <th>표준버스정류장ID</th>\n",
              "      <th>버스정류장ARS번호</th>\n",
              "      <th>역명</th>\n",
              "      <th>00시승차총승객수</th>\n",
              "      <th>00시하차총승객수</th>\n",
              "      <th>1시승차총승객수</th>\n",
              "      <th>1시하차총승객수</th>\n",
              "      <th>...</th>\n",
              "      <th>20시하차총승객수</th>\n",
              "      <th>21시승차총승객수</th>\n",
              "      <th>21시하차총승객수</th>\n",
              "      <th>22시승차총승객수</th>\n",
              "      <th>22시하차총승객수</th>\n",
              "      <th>23시승차총승객수</th>\n",
              "      <th>23시하차총승객수</th>\n",
              "      <th>등록일자</th>\n",
              "      <th>n_ride</th>\n",
              "      <th>n_quit</th>\n",
              "    </tr>\n",
              "  </thead>\n",
              "  <tbody>\n",
              "    <tr>\n",
              "      <th>0</th>\n",
              "      <td>202201</td>\n",
              "      <td>741</td>\n",
              "      <td>741번(진관차고지~헌인릉입구)</td>\n",
              "      <td>100000001</td>\n",
              "      <td>1001</td>\n",
              "      <td>종로2가사거리</td>\n",
              "      <td>27</td>\n",
              "      <td>69</td>\n",
              "      <td>14</td>\n",
              "      <td>40</td>\n",
              "      <td>...</td>\n",
              "      <td>175</td>\n",
              "      <td>284</td>\n",
              "      <td>153</td>\n",
              "      <td>230</td>\n",
              "      <td>105</td>\n",
              "      <td>77</td>\n",
              "      <td>51</td>\n",
              "      <td>20220203</td>\n",
              "      <td>5318</td>\n",
              "      <td>5046</td>\n",
              "    </tr>\n",
              "    <tr>\n",
              "      <th>1</th>\n",
              "      <td>202201</td>\n",
              "      <td>N37</td>\n",
              "      <td>N37번(진관공영차고지~송파공영차고지)</td>\n",
              "      <td>100000001</td>\n",
              "      <td>1001</td>\n",
              "      <td>종로2가사거리</td>\n",
              "      <td>0</td>\n",
              "      <td>0</td>\n",
              "      <td>0</td>\n",
              "      <td>0</td>\n",
              "      <td>...</td>\n",
              "      <td>0</td>\n",
              "      <td>0</td>\n",
              "      <td>0</td>\n",
              "      <td>0</td>\n",
              "      <td>0</td>\n",
              "      <td>0</td>\n",
              "      <td>0</td>\n",
              "      <td>20220203</td>\n",
              "      <td>107</td>\n",
              "      <td>189</td>\n",
              "    </tr>\n",
              "    <tr>\n",
              "      <th>2</th>\n",
              "      <td>202201</td>\n",
              "      <td>470</td>\n",
              "      <td>470번(상암차고지~안골마을)</td>\n",
              "      <td>100000001</td>\n",
              "      <td>1001</td>\n",
              "      <td>종로2가사거리</td>\n",
              "      <td>10</td>\n",
              "      <td>49</td>\n",
              "      <td>0</td>\n",
              "      <td>0</td>\n",
              "      <td>...</td>\n",
              "      <td>201</td>\n",
              "      <td>358</td>\n",
              "      <td>253</td>\n",
              "      <td>137</td>\n",
              "      <td>107</td>\n",
              "      <td>72</td>\n",
              "      <td>64</td>\n",
              "      <td>20220203</td>\n",
              "      <td>6421</td>\n",
              "      <td>5295</td>\n",
              "    </tr>\n",
              "    <tr>\n",
              "      <th>3</th>\n",
              "      <td>202201</td>\n",
              "      <td>N37</td>\n",
              "      <td>N37번(송파공영차고지~진관공영차고지)</td>\n",
              "      <td>100000001</td>\n",
              "      <td>1001</td>\n",
              "      <td>종로2가사거리</td>\n",
              "      <td>0</td>\n",
              "      <td>5</td>\n",
              "      <td>31</td>\n",
              "      <td>89</td>\n",
              "      <td>...</td>\n",
              "      <td>0</td>\n",
              "      <td>0</td>\n",
              "      <td>0</td>\n",
              "      <td>0</td>\n",
              "      <td>0</td>\n",
              "      <td>0</td>\n",
              "      <td>0</td>\n",
              "      <td>20220203</td>\n",
              "      <td>43</td>\n",
              "      <td>143</td>\n",
              "    </tr>\n",
              "    <tr>\n",
              "      <th>4</th>\n",
              "      <td>202201</td>\n",
              "      <td>100</td>\n",
              "      <td>100번(하계동~용산구청)</td>\n",
              "      <td>100000002</td>\n",
              "      <td>1002</td>\n",
              "      <td>창경궁.서울대학교병원</td>\n",
              "      <td>0</td>\n",
              "      <td>0</td>\n",
              "      <td>0</td>\n",
              "      <td>0</td>\n",
              "      <td>...</td>\n",
              "      <td>18</td>\n",
              "      <td>42</td>\n",
              "      <td>44</td>\n",
              "      <td>28</td>\n",
              "      <td>14</td>\n",
              "      <td>14</td>\n",
              "      <td>1</td>\n",
              "      <td>20220203</td>\n",
              "      <td>2189</td>\n",
              "      <td>3344</td>\n",
              "    </tr>\n",
              "  </tbody>\n",
              "</table>\n",
              "<p>5 rows × 57 columns</p>\n",
              "</div>\n",
              "      <button class=\"colab-df-convert\" onclick=\"convertToInteractive('df-d3b514d6-f645-4c3f-b7ee-5b4c1b23376e')\"\n",
              "              title=\"Convert this dataframe to an interactive table.\"\n",
              "              style=\"display:none;\">\n",
              "        \n",
              "  <svg xmlns=\"http://www.w3.org/2000/svg\" height=\"24px\"viewBox=\"0 0 24 24\"\n",
              "       width=\"24px\">\n",
              "    <path d=\"M0 0h24v24H0V0z\" fill=\"none\"/>\n",
              "    <path d=\"M18.56 5.44l.94 2.06.94-2.06 2.06-.94-2.06-.94-.94-2.06-.94 2.06-2.06.94zm-11 1L8.5 8.5l.94-2.06 2.06-.94-2.06-.94L8.5 2.5l-.94 2.06-2.06.94zm10 10l.94 2.06.94-2.06 2.06-.94-2.06-.94-.94-2.06-.94 2.06-2.06.94z\"/><path d=\"M17.41 7.96l-1.37-1.37c-.4-.4-.92-.59-1.43-.59-.52 0-1.04.2-1.43.59L10.3 9.45l-7.72 7.72c-.78.78-.78 2.05 0 2.83L4 21.41c.39.39.9.59 1.41.59.51 0 1.02-.2 1.41-.59l7.78-7.78 2.81-2.81c.8-.78.8-2.07 0-2.86zM5.41 20L4 18.59l7.72-7.72 1.47 1.35L5.41 20z\"/>\n",
              "  </svg>\n",
              "      </button>\n",
              "      \n",
              "  <style>\n",
              "    .colab-df-container {\n",
              "      display:flex;\n",
              "      flex-wrap:wrap;\n",
              "      gap: 12px;\n",
              "    }\n",
              "\n",
              "    .colab-df-convert {\n",
              "      background-color: #E8F0FE;\n",
              "      border: none;\n",
              "      border-radius: 50%;\n",
              "      cursor: pointer;\n",
              "      display: none;\n",
              "      fill: #1967D2;\n",
              "      height: 32px;\n",
              "      padding: 0 0 0 0;\n",
              "      width: 32px;\n",
              "    }\n",
              "\n",
              "    .colab-df-convert:hover {\n",
              "      background-color: #E2EBFA;\n",
              "      box-shadow: 0px 1px 2px rgba(60, 64, 67, 0.3), 0px 1px 3px 1px rgba(60, 64, 67, 0.15);\n",
              "      fill: #174EA6;\n",
              "    }\n",
              "\n",
              "    [theme=dark] .colab-df-convert {\n",
              "      background-color: #3B4455;\n",
              "      fill: #D2E3FC;\n",
              "    }\n",
              "\n",
              "    [theme=dark] .colab-df-convert:hover {\n",
              "      background-color: #434B5C;\n",
              "      box-shadow: 0px 1px 3px 1px rgba(0, 0, 0, 0.15);\n",
              "      filter: drop-shadow(0px 1px 2px rgba(0, 0, 0, 0.3));\n",
              "      fill: #FFFFFF;\n",
              "    }\n",
              "  </style>\n",
              "\n",
              "      <script>\n",
              "        const buttonEl =\n",
              "          document.querySelector('#df-d3b514d6-f645-4c3f-b7ee-5b4c1b23376e button.colab-df-convert');\n",
              "        buttonEl.style.display =\n",
              "          google.colab.kernel.accessAllowed ? 'block' : 'none';\n",
              "\n",
              "        async function convertToInteractive(key) {\n",
              "          const element = document.querySelector('#df-d3b514d6-f645-4c3f-b7ee-5b4c1b23376e');\n",
              "          const dataTable =\n",
              "            await google.colab.kernel.invokeFunction('convertToInteractive',\n",
              "                                                     [key], {});\n",
              "          if (!dataTable) return;\n",
              "\n",
              "          const docLinkHtml = 'Like what you see? Visit the ' +\n",
              "            '<a target=\"_blank\" href=https://colab.research.google.com/notebooks/data_table.ipynb>data table notebook</a>'\n",
              "            + ' to learn more about interactive tables.';\n",
              "          element.innerHTML = '';\n",
              "          dataTable['output_type'] = 'display_data';\n",
              "          await google.colab.output.renderOutput(dataTable, element);\n",
              "          const docLink = document.createElement('div');\n",
              "          docLink.innerHTML = docLinkHtml;\n",
              "          element.appendChild(docLink);\n",
              "        }\n",
              "      </script>\n",
              "    </div>\n",
              "  </div>\n",
              "  "
            ],
            "text/plain": [
              "     사용년월 노선번호                    노선명  표준버스정류장ID 버스정류장ARS번호           역명  \\\n",
              "0  202201  741      741번(진관차고지~헌인릉입구)  100000001       1001      종로2가사거리   \n",
              "1  202201  N37  N37번(진관공영차고지~송파공영차고지)  100000001       1001      종로2가사거리   \n",
              "2  202201  470       470번(상암차고지~안골마을)  100000001       1001      종로2가사거리   \n",
              "3  202201  N37  N37번(송파공영차고지~진관공영차고지)  100000001       1001      종로2가사거리   \n",
              "4  202201  100         100번(하계동~용산구청)  100000002       1002  창경궁.서울대학교병원   \n",
              "\n",
              "   00시승차총승객수  00시하차총승객수  1시승차총승객수  1시하차총승객수  ...  20시하차총승객수  21시승차총승객수  \\\n",
              "0         27         69        14        40  ...        175        284   \n",
              "1          0          0         0         0  ...          0          0   \n",
              "2         10         49         0         0  ...        201        358   \n",
              "3          0          5        31        89  ...          0          0   \n",
              "4          0          0         0         0  ...         18         42   \n",
              "\n",
              "   21시하차총승객수  22시승차총승객수  22시하차총승객수  23시승차총승객수  23시하차총승객수      등록일자  n_ride  \\\n",
              "0        153        230        105         77         51  20220203    5318   \n",
              "1          0          0          0          0          0  20220203     107   \n",
              "2        253        137        107         72         64  20220203    6421   \n",
              "3          0          0          0          0          0  20220203      43   \n",
              "4         44         28         14         14          1  20220203    2189   \n",
              "\n",
              "   n_quit  \n",
              "0    5046  \n",
              "1     189  \n",
              "2    5295  \n",
              "3     143  \n",
              "4    3344  \n",
              "\n",
              "[5 rows x 57 columns]"
            ]
          },
          "metadata": {},
          "execution_count": 25
        }
      ]
    },
    {
      "cell_type": "code",
      "source": [
        "bus.dtypes"
      ],
      "metadata": {
        "colab": {
          "base_uri": "https://localhost:8080/"
        },
        "id": "Gpah5aRkPpye",
        "outputId": "d36d0364-d467-42f4-ffbd-71e1b671e162"
      },
      "execution_count": 26,
      "outputs": [
        {
          "output_type": "execute_result",
          "data": {
            "text/plain": [
              "사용년월           int64\n",
              "노선번호          object\n",
              "노선명           object\n",
              "표준버스정류장ID      int64\n",
              "버스정류장ARS번호    object\n",
              "역명            object\n",
              "00시승차총승객수      int64\n",
              "00시하차총승객수      int64\n",
              "1시승차총승객수       int64\n",
              "1시하차총승객수       int64\n",
              "2시승차총승객수       int64\n",
              "2시하차총승객수       int64\n",
              "3시승차총승객수       int64\n",
              "3시하차총승객수       int64\n",
              "4시승차총승객수       int64\n",
              "4시하차총승객수       int64\n",
              "5시승차총승객수       int64\n",
              "5시하차총승객수       int64\n",
              "6시승차총승객수       int64\n",
              "6시하차총승객수       int64\n",
              "7시승차총승객수       int64\n",
              "7시하차총승객수       int64\n",
              "8시승차총승객수       int64\n",
              "8시하차총승객수       int64\n",
              "9시승차총승객수       int64\n",
              "9시하차총승객수       int64\n",
              "10시승차총승객수      int64\n",
              "10시하차총승객수      int64\n",
              "11시승차총승객수      int64\n",
              "11시하차총승객수      int64\n",
              "12시승차총승객수      int64\n",
              "12시하차총승객수      int64\n",
              "13시승차총승객수      int64\n",
              "13시하차총승객수      int64\n",
              "14시승차총승객수      int64\n",
              "14시하차총승객수      int64\n",
              "15시승차총승객수      int64\n",
              "15시하차총승객수      int64\n",
              "16시승차총승객수      int64\n",
              "16시하차총승객수      int64\n",
              "17시승차총승객수      int64\n",
              "17시하차총승객수      int64\n",
              "18시승차총승객수      int64\n",
              "18시하차총승객수      int64\n",
              "19시승차총승객수      int64\n",
              "19시하차총승객수      int64\n",
              "20시승차총승객수      int64\n",
              "20시하차총승객수      int64\n",
              "21시승차총승객수      int64\n",
              "21시하차총승객수      int64\n",
              "22시승차총승객수      int64\n",
              "22시하차총승객수      int64\n",
              "23시승차총승객수      int64\n",
              "23시하차총승객수      int64\n",
              "등록일자           int64\n",
              "n_ride         int64\n",
              "n_quit         int64\n",
              "dtype: object"
            ]
          },
          "metadata": {},
          "execution_count": 26
        }
      ]
    },
    {
      "cell_type": "code",
      "source": [
        "bus.describe"
      ],
      "metadata": {
        "colab": {
          "base_uri": "https://localhost:8080/"
        },
        "id": "w6nwzfJqPutw",
        "outputId": "31109536-7d08-4ef6-d734-c1070718e360"
      },
      "execution_count": 9,
      "outputs": [
        {
          "output_type": "execute_result",
          "data": {
            "text/plain": [
              "<bound method NDFrame.describe of          사용년월  노선번호                    노선명  표준버스정류장ID 버스정류장ARS번호  \\\n",
              "0      202201   741      741번(진관차고지~헌인릉입구)  100000001       1001   \n",
              "1      202201   N37  N37번(진관공영차고지~송파공영차고지)  100000001       1001   \n",
              "2      202201   470       470번(상암차고지~안골마을)  100000001       1001   \n",
              "3      202201   N37  N37번(송파공영차고지~진관공영차고지)  100000001       1001   \n",
              "4      202201   100         100번(하계동~용산구청)  100000002       1002   \n",
              "...       ...   ...                    ...        ...        ...   \n",
              "39154  202201  6648         6648(방화동~양천구청)  999800002          ~   \n",
              "39155  202201  9404        9404번(분당구미~신사역)  999800003          ~   \n",
              "39156  202201  9404        9404번(분당구미~신사역)  999800004          ~   \n",
              "39157  202201  9701         9701번(가좌동~서울역)  999800005          ~   \n",
              "39158  202201  9707     9707번(고양 가좌동~영등포역)  999800005          ~   \n",
              "\n",
              "                 역명  00시승차총승객수  00시하차총승객수  1시승차총승객수  1시하차총승객수  ...  19시하차총승객수  \\\n",
              "0           종로2가사거리         27         69        14        40  ...        313   \n",
              "1           종로2가사거리          0          0         0         0  ...          0   \n",
              "2           종로2가사거리         10         49         0         0  ...        258   \n",
              "3           종로2가사거리          0          5        31        89  ...          0   \n",
              "4       창경궁.서울대학교병원          0          0         0         0  ...         24   \n",
              "...             ...        ...        ...       ...       ...  ...        ...   \n",
              "39154    김포교통(종점가상)          0          0         0         0  ...          0   \n",
              "39155  구미동차고지(기점가상)          0          0         0         0  ...          1   \n",
              "39156  구미동차고지(종점가상)          0          1         0         3  ...          3   \n",
              "39157   가좌동종점(종점가상)          0          2         0         0  ...          0   \n",
              "39158   가좌동종점(종점가상)          0          2         0         3  ...          2   \n",
              "\n",
              "       20시승차총승객수  20시하차총승객수  21시승차총승객수  21시하차총승객수  22시승차총승객수  22시하차총승객수  \\\n",
              "0            308        175        284        153        230        105   \n",
              "1              0          0          0          0          0          0   \n",
              "2            304        201        358        253        137        107   \n",
              "3              0          0          0          0          0          0   \n",
              "4             32         18         42         44         28         14   \n",
              "...          ...        ...        ...        ...        ...        ...   \n",
              "39154          0          1          0          0          0          2   \n",
              "39155          3          3          1          6          0         11   \n",
              "39156          0          3          0          8          0         10   \n",
              "39157          0          1          0          1          0          3   \n",
              "39158          0          7          0          2          0          4   \n",
              "\n",
              "       23시승차총승객수  23시하차총승객수      등록일자  \n",
              "0             77         51  20220203  \n",
              "1              0          0  20220203  \n",
              "2             72         64  20220203  \n",
              "3              0          0  20220203  \n",
              "4             14          1  20220203  \n",
              "...          ...        ...       ...  \n",
              "39154          0          0  20220203  \n",
              "39155          0          0  20220203  \n",
              "39156          0          3  20220203  \n",
              "39157          0          1  20220203  \n",
              "39158          0          3  20220203  \n",
              "\n",
              "[39159 rows x 55 columns]>"
            ]
          },
          "metadata": {},
          "execution_count": 9
        }
      ]
    },
    {
      "cell_type": "code",
      "source": [
        "bus.info()"
      ],
      "metadata": {
        "colab": {
          "base_uri": "https://localhost:8080/"
        },
        "id": "DKG_-1GxT3O8",
        "outputId": "5f2ab938-d699-4a47-ffb3-6b17a2c48b47"
      },
      "execution_count": 27,
      "outputs": [
        {
          "output_type": "stream",
          "name": "stdout",
          "text": [
            "<class 'pandas.core.frame.DataFrame'>\n",
            "RangeIndex: 39159 entries, 0 to 39158\n",
            "Data columns (total 57 columns):\n",
            " #   Column      Non-Null Count  Dtype \n",
            "---  ------      --------------  ----- \n",
            " 0   사용년월        39159 non-null  int64 \n",
            " 1   노선번호        39159 non-null  object\n",
            " 2   노선명         39159 non-null  object\n",
            " 3   표준버스정류장ID   39159 non-null  int64 \n",
            " 4   버스정류장ARS번호  39159 non-null  object\n",
            " 5   역명          39159 non-null  object\n",
            " 6   00시승차총승객수   39159 non-null  int64 \n",
            " 7   00시하차총승객수   39159 non-null  int64 \n",
            " 8   1시승차총승객수    39159 non-null  int64 \n",
            " 9   1시하차총승객수    39159 non-null  int64 \n",
            " 10  2시승차총승객수    39159 non-null  int64 \n",
            " 11  2시하차총승객수    39159 non-null  int64 \n",
            " 12  3시승차총승객수    39159 non-null  int64 \n",
            " 13  3시하차총승객수    39159 non-null  int64 \n",
            " 14  4시승차총승객수    39159 non-null  int64 \n",
            " 15  4시하차총승객수    39159 non-null  int64 \n",
            " 16  5시승차총승객수    39159 non-null  int64 \n",
            " 17  5시하차총승객수    39159 non-null  int64 \n",
            " 18  6시승차총승객수    39159 non-null  int64 \n",
            " 19  6시하차총승객수    39159 non-null  int64 \n",
            " 20  7시승차총승객수    39159 non-null  int64 \n",
            " 21  7시하차총승객수    39159 non-null  int64 \n",
            " 22  8시승차총승객수    39159 non-null  int64 \n",
            " 23  8시하차총승객수    39159 non-null  int64 \n",
            " 24  9시승차총승객수    39159 non-null  int64 \n",
            " 25  9시하차총승객수    39159 non-null  int64 \n",
            " 26  10시승차총승객수   39159 non-null  int64 \n",
            " 27  10시하차총승객수   39159 non-null  int64 \n",
            " 28  11시승차총승객수   39159 non-null  int64 \n",
            " 29  11시하차총승객수   39159 non-null  int64 \n",
            " 30  12시승차총승객수   39159 non-null  int64 \n",
            " 31  12시하차총승객수   39159 non-null  int64 \n",
            " 32  13시승차총승객수   39159 non-null  int64 \n",
            " 33  13시하차총승객수   39159 non-null  int64 \n",
            " 34  14시승차총승객수   39159 non-null  int64 \n",
            " 35  14시하차총승객수   39159 non-null  int64 \n",
            " 36  15시승차총승객수   39159 non-null  int64 \n",
            " 37  15시하차총승객수   39159 non-null  int64 \n",
            " 38  16시승차총승객수   39159 non-null  int64 \n",
            " 39  16시하차총승객수   39159 non-null  int64 \n",
            " 40  17시승차총승객수   39159 non-null  int64 \n",
            " 41  17시하차총승객수   39159 non-null  int64 \n",
            " 42  18시승차총승객수   39159 non-null  int64 \n",
            " 43  18시하차총승객수   39159 non-null  int64 \n",
            " 44  19시승차총승객수   39159 non-null  int64 \n",
            " 45  19시하차총승객수   39159 non-null  int64 \n",
            " 46  20시승차총승객수   39159 non-null  int64 \n",
            " 47  20시하차총승객수   39159 non-null  int64 \n",
            " 48  21시승차총승객수   39159 non-null  int64 \n",
            " 49  21시하차총승객수   39159 non-null  int64 \n",
            " 50  22시승차총승객수   39159 non-null  int64 \n",
            " 51  22시하차총승객수   39159 non-null  int64 \n",
            " 52  23시승차총승객수   39159 non-null  int64 \n",
            " 53  23시하차총승객수   39159 non-null  int64 \n",
            " 54  등록일자        39159 non-null  int64 \n",
            " 55  n_ride      39159 non-null  int64 \n",
            " 56  n_quit      39159 non-null  int64 \n",
            "dtypes: int64(53), object(4)\n",
            "memory usage: 17.0+ MB\n"
          ]
        }
      ]
    },
    {
      "cell_type": "markdown",
      "source": [
        "### 2) 풀고자 하는 문제가 분류/회귀 문제인지 정합니다.\n",
        "**(Urclass Quiz)** 다이아몬드를 보관하기 위해 금고를 만들었습니다. 금고가 너무 작아서 가격이 상위 25%인 것만 보관하려고 합니다. 이를 위해 'price' 특성을 이용해 금고에 보관할 다이아몬드와 그렇지 않은 것으로 분류하는 이진분류 컬럼을 만들어 타겟 특성으로 사용할 것입니다. 타겟 특성의 최빈값의 빈도수를 적어주세요.\n",
        "- 'top25'라는 새로운 타겟변수(컬럼)를 만들어주세요.\n",
        "- 상위 25% 이상 True, 상위 25% 미만 False\n",
        "\n",
        "   "
      ],
      "metadata": {
        "id": "BcgcG5UfpHYl"
      }
    },
    {
      "cell_type": "code",
      "execution_count": 41,
      "source": [
        "### 이곳에서 과제를 진행해 주세요 ### \n",
        "import seaborn as sns\n",
        "diamonds = sns.load_dataset('diamonds')"
      ],
      "outputs": [],
      "metadata": {
        "id": "53QsekKhpHYl"
      }
    },
    {
      "cell_type": "code",
      "source": [
        "diamonds['top25'] = np.where(diamonds['price'] >= 5324.25, True, False) \n",
        "diamonds.head(3)"
      ],
      "metadata": {
        "colab": {
          "base_uri": "https://localhost:8080/",
          "height": 143
        },
        "id": "xk-LI_w7P5R4",
        "outputId": "96f0b537-978a-43c8-8d7d-c81fd878bc28"
      },
      "execution_count": 42,
      "outputs": [
        {
          "output_type": "execute_result",
          "data": {
            "text/html": [
              "\n",
              "  <div id=\"df-ed9549a7-66f4-486f-8515-d1143ac8fcbd\">\n",
              "    <div class=\"colab-df-container\">\n",
              "      <div>\n",
              "<style scoped>\n",
              "    .dataframe tbody tr th:only-of-type {\n",
              "        vertical-align: middle;\n",
              "    }\n",
              "\n",
              "    .dataframe tbody tr th {\n",
              "        vertical-align: top;\n",
              "    }\n",
              "\n",
              "    .dataframe thead th {\n",
              "        text-align: right;\n",
              "    }\n",
              "</style>\n",
              "<table border=\"1\" class=\"dataframe\">\n",
              "  <thead>\n",
              "    <tr style=\"text-align: right;\">\n",
              "      <th></th>\n",
              "      <th>carat</th>\n",
              "      <th>cut</th>\n",
              "      <th>color</th>\n",
              "      <th>clarity</th>\n",
              "      <th>depth</th>\n",
              "      <th>table</th>\n",
              "      <th>price</th>\n",
              "      <th>x</th>\n",
              "      <th>y</th>\n",
              "      <th>z</th>\n",
              "      <th>top25</th>\n",
              "    </tr>\n",
              "  </thead>\n",
              "  <tbody>\n",
              "    <tr>\n",
              "      <th>0</th>\n",
              "      <td>0.23</td>\n",
              "      <td>Ideal</td>\n",
              "      <td>E</td>\n",
              "      <td>SI2</td>\n",
              "      <td>61.5</td>\n",
              "      <td>55.0</td>\n",
              "      <td>326</td>\n",
              "      <td>3.95</td>\n",
              "      <td>3.98</td>\n",
              "      <td>2.43</td>\n",
              "      <td>False</td>\n",
              "    </tr>\n",
              "    <tr>\n",
              "      <th>1</th>\n",
              "      <td>0.21</td>\n",
              "      <td>Premium</td>\n",
              "      <td>E</td>\n",
              "      <td>SI1</td>\n",
              "      <td>59.8</td>\n",
              "      <td>61.0</td>\n",
              "      <td>326</td>\n",
              "      <td>3.89</td>\n",
              "      <td>3.84</td>\n",
              "      <td>2.31</td>\n",
              "      <td>False</td>\n",
              "    </tr>\n",
              "    <tr>\n",
              "      <th>2</th>\n",
              "      <td>0.23</td>\n",
              "      <td>Good</td>\n",
              "      <td>E</td>\n",
              "      <td>VS1</td>\n",
              "      <td>56.9</td>\n",
              "      <td>65.0</td>\n",
              "      <td>327</td>\n",
              "      <td>4.05</td>\n",
              "      <td>4.07</td>\n",
              "      <td>2.31</td>\n",
              "      <td>False</td>\n",
              "    </tr>\n",
              "  </tbody>\n",
              "</table>\n",
              "</div>\n",
              "      <button class=\"colab-df-convert\" onclick=\"convertToInteractive('df-ed9549a7-66f4-486f-8515-d1143ac8fcbd')\"\n",
              "              title=\"Convert this dataframe to an interactive table.\"\n",
              "              style=\"display:none;\">\n",
              "        \n",
              "  <svg xmlns=\"http://www.w3.org/2000/svg\" height=\"24px\"viewBox=\"0 0 24 24\"\n",
              "       width=\"24px\">\n",
              "    <path d=\"M0 0h24v24H0V0z\" fill=\"none\"/>\n",
              "    <path d=\"M18.56 5.44l.94 2.06.94-2.06 2.06-.94-2.06-.94-.94-2.06-.94 2.06-2.06.94zm-11 1L8.5 8.5l.94-2.06 2.06-.94-2.06-.94L8.5 2.5l-.94 2.06-2.06.94zm10 10l.94 2.06.94-2.06 2.06-.94-2.06-.94-.94-2.06-.94 2.06-2.06.94z\"/><path d=\"M17.41 7.96l-1.37-1.37c-.4-.4-.92-.59-1.43-.59-.52 0-1.04.2-1.43.59L10.3 9.45l-7.72 7.72c-.78.78-.78 2.05 0 2.83L4 21.41c.39.39.9.59 1.41.59.51 0 1.02-.2 1.41-.59l7.78-7.78 2.81-2.81c.8-.78.8-2.07 0-2.86zM5.41 20L4 18.59l7.72-7.72 1.47 1.35L5.41 20z\"/>\n",
              "  </svg>\n",
              "      </button>\n",
              "      \n",
              "  <style>\n",
              "    .colab-df-container {\n",
              "      display:flex;\n",
              "      flex-wrap:wrap;\n",
              "      gap: 12px;\n",
              "    }\n",
              "\n",
              "    .colab-df-convert {\n",
              "      background-color: #E8F0FE;\n",
              "      border: none;\n",
              "      border-radius: 50%;\n",
              "      cursor: pointer;\n",
              "      display: none;\n",
              "      fill: #1967D2;\n",
              "      height: 32px;\n",
              "      padding: 0 0 0 0;\n",
              "      width: 32px;\n",
              "    }\n",
              "\n",
              "    .colab-df-convert:hover {\n",
              "      background-color: #E2EBFA;\n",
              "      box-shadow: 0px 1px 2px rgba(60, 64, 67, 0.3), 0px 1px 3px 1px rgba(60, 64, 67, 0.15);\n",
              "      fill: #174EA6;\n",
              "    }\n",
              "\n",
              "    [theme=dark] .colab-df-convert {\n",
              "      background-color: #3B4455;\n",
              "      fill: #D2E3FC;\n",
              "    }\n",
              "\n",
              "    [theme=dark] .colab-df-convert:hover {\n",
              "      background-color: #434B5C;\n",
              "      box-shadow: 0px 1px 3px 1px rgba(0, 0, 0, 0.15);\n",
              "      filter: drop-shadow(0px 1px 2px rgba(0, 0, 0, 0.3));\n",
              "      fill: #FFFFFF;\n",
              "    }\n",
              "  </style>\n",
              "\n",
              "      <script>\n",
              "        const buttonEl =\n",
              "          document.querySelector('#df-ed9549a7-66f4-486f-8515-d1143ac8fcbd button.colab-df-convert');\n",
              "        buttonEl.style.display =\n",
              "          google.colab.kernel.accessAllowed ? 'block' : 'none';\n",
              "\n",
              "        async function convertToInteractive(key) {\n",
              "          const element = document.querySelector('#df-ed9549a7-66f4-486f-8515-d1143ac8fcbd');\n",
              "          const dataTable =\n",
              "            await google.colab.kernel.invokeFunction('convertToInteractive',\n",
              "                                                     [key], {});\n",
              "          if (!dataTable) return;\n",
              "\n",
              "          const docLinkHtml = 'Like what you see? Visit the ' +\n",
              "            '<a target=\"_blank\" href=https://colab.research.google.com/notebooks/data_table.ipynb>data table notebook</a>'\n",
              "            + ' to learn more about interactive tables.';\n",
              "          element.innerHTML = '';\n",
              "          dataTable['output_type'] = 'display_data';\n",
              "          await google.colab.output.renderOutput(dataTable, element);\n",
              "          const docLink = document.createElement('div');\n",
              "          docLink.innerHTML = docLinkHtml;\n",
              "          element.appendChild(docLink);\n",
              "        }\n",
              "      </script>\n",
              "    </div>\n",
              "  </div>\n",
              "  "
            ],
            "text/plain": [
              "   carat      cut color clarity  depth  table  price     x     y     z  top25\n",
              "0   0.23    Ideal     E     SI2   61.5   55.0    326  3.95  3.98  2.43  False\n",
              "1   0.21  Premium     E     SI1   59.8   61.0    326  3.89  3.84  2.31  False\n",
              "2   0.23     Good     E     VS1   56.9   65.0    327  4.05  4.07  2.31  False"
            ]
          },
          "metadata": {},
          "execution_count": 42
        }
      ]
    },
    {
      "cell_type": "code",
      "source": [
        "diamonds['top25'].value_counts()"
      ],
      "metadata": {
        "colab": {
          "base_uri": "https://localhost:8080/"
        },
        "id": "IWawgSgIW_8h",
        "outputId": "ca62e57d-51bd-4ee3-9035-1c7dfdb8fabf"
      },
      "execution_count": 43,
      "outputs": [
        {
          "output_type": "execute_result",
          "data": {
            "text/plain": [
              "False    40455\n",
              "True     13485\n",
              "Name: top25, dtype: int64"
            ]
          },
          "metadata": {},
          "execution_count": 43
        }
      ]
    },
    {
      "cell_type": "markdown",
      "source": [
        "### 3) 타겟의 분포를 분석하고 사용할 평가지표를 선택합니다. 평가지표를 선택한 이유를 설명하세요.\n",
        "- 분류: 클래스가 몇 개인지? 클래스 비율이 어떤지(balance or imbalance)\n",
        "- 회귀: 타겟 분포가 right-skewed 인지? log-transform을 사용할 것인지?\n",
        "- 분류: 다수 클래스(majority class) 비율이 50%~70% 인 경우 정확도(accuracy)만 사용해도 무방합니다. 하지만 범위를 넘어설 경우 정확도만을 사용해서는 모델을 잘못 이해할 수 있습니다. 어떤 평가지표를 사용해야 할까요?\n",
        "- 회귀: MAE, RMSE, R^2 등을 사용할 수 있습니다.\n",
        "\n",
        "---\n",
        "\n",
        "\n",
        "**(Urclass Quiz)** 여러분들이 프로젝트에 사용할 데이터의 기준모델과 사용할 평가지표를 제출해주세요."
      ],
      "metadata": {
        "id": "wfkMQUkSpHYm"
      }
    },
    {
      "cell_type": "code",
      "execution_count": 34,
      "source": [
        "### 이곳에서 과제를 진행해 주세요 ### \n",
        "bus['노선명'].value_counts(normalize=True)"
      ],
      "outputs": [
        {
          "output_type": "execute_result",
          "data": {
            "text/plain": [
              "N61번(상계동차고지~양천공영차고지)       0.004775\n",
              "N61번(양천공영차고지~상계동차고지)       0.004775\n",
              "N62번(면목동차고지~양천공영차고지)       0.004214\n",
              "N62번(양천공영차고지~면목동차고지)       0.004163\n",
              "774번(구파발역~파주읍)             0.004163\n",
              "                             ...   \n",
              "8441번(은곡마을.LH이편한세상~수서역)    0.000230\n",
              "8761번(광흥창역~국회의사당역)         0.000230\n",
              "N876번(은평공영차고지~영등포역)        0.000179\n",
              "동대문01(회기역~경희대)             0.000153\n",
              "N840번(남태령역~이태원)            0.000077\n",
              "Name: 노선명, Length: 636, dtype: float64"
            ]
          },
          "metadata": {},
          "execution_count": 34
        }
      ],
      "metadata": {
        "id": "u9hgVuVmpHYm",
        "colab": {
          "base_uri": "https://localhost:8080/"
        },
        "outputId": "067098eb-a4e2-4cc3-f5ea-24dccc91d7b7"
      }
    },
    {
      "cell_type": "code",
      "source": [
        "print(\n",
        "    \"버스정류장 역별 시간대 승하차 정보만 가지고는 문제해결의 정보가 불충분하다.\\n\"\n",
        "    \"서울특별시 주민등록 인구, 지역별 직장인구, 지역별 유동인구, 업종 점포 정보를 추가 후,\\n\"\n",
        "    \"버스 노선 개선이 필요한 구간을 제안하고자 한다.\"\n",
        "    \"변수간의 상관관계를 확인하며 버스 노선 개선에 필요한 주요 정보가 어떤 변수인지 확인해야한다.\\n\"\n",
        "    \"회귀방법을 선택할 것이며, 평가지표는 R2 score와 RMSE을 사용할 것이다.\"\n",
        ")"
      ],
      "metadata": {
        "colab": {
          "base_uri": "https://localhost:8080/"
        },
        "id": "M_DMy70nUZ6x",
        "outputId": "bd93e907-f0c0-4cb3-de38-6089006a5d10"
      },
      "execution_count": 35,
      "outputs": [
        {
          "output_type": "stream",
          "name": "stdout",
          "text": [
            "버스정류장 역별 시간대 승하차 정보만 가지고는 문제해결의 정보가 불충분하다.\n",
            "서울특별시 주민등록 인구, 지역별 직장인구, 지역별 유동인구, 업종 점포 정보를 추가 후,\n",
            "버스 노선 개선이 필요한 구간을 제안하고자 한다.변수간의 상관관계를 확인하며 버스 노선 개선에 필요한 주요 정보가 어떤 변수인지 확인해야한다.\n",
            "회귀방법을 선택할 것이며, 평가지표는 R2 score와 RMSE을 사용할 것이다.\n"
          ]
        }
      ]
    },
    {
      "cell_type": "markdown",
      "source": [
        "## 🔥 도전과제(Github - Discussion)"
      ],
      "metadata": {
        "id": "LDng-TSrpHYn"
      }
    },
    {
      "cell_type": "markdown",
      "source": [
        "### 4) 실무에서 데이터분석가/데이터엔지니어/데이터사이언티스트에게 중요한 역량이 무엇이라고 생각하며, 어떤 어려움을 겪게 될 것 같은지와 어떤 능력이 필요할 지 논의해 보세요. 또한, 섹션2 프로젝트에 앞서 본인이 얻고자 하는 점이나 다짐 등을 서로 공유해 보세요. \n"
      ],
      "metadata": {
        "id": "XpiVRtsDpHYn"
      }
    },
    {
      "cell_type": "code",
      "execution_count": null,
      "source": [
        "### 이곳에서 과제를 진행해 주세요 ### "
      ],
      "outputs": [],
      "metadata": {
        "id": "vlxgv4m-pHYn"
      }
    }
  ],
  "metadata": {
    "kernelspec": {
      "display_name": "Python 3",
      "language": "python",
      "name": "python3"
    },
    "language_info": {
      "codemirror_mode": {
        "name": "ipython",
        "version": 3
      },
      "file_extension": ".py",
      "mimetype": "text/x-python",
      "name": "python",
      "nbconvert_exporter": "python",
      "pygments_lexer": "ipython3",
      "version": "3.7.7"
    },
    "colab": {
      "name": "n231a-choose-your-ml-problems.ipynb",
      "provenance": []
    }
  },
  "nbformat": 4,
  "nbformat_minor": 0
}